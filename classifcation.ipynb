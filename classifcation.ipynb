{
 "cells": [
  {
   "cell_type": "code",
   "execution_count": 1,
   "id": "11ee8388-1085-444c-8787-8055ea74e280",
   "metadata": {},
   "outputs": [],
   "source": [
    "import numpy as np\n",
    "import os\n",
    "\n",
    "np.random.seed(42)\n",
    "\n",
    "%matplotlib inline\n",
    "import matplotlib as mpl\n",
    "import matplotlib.pyplot as plt\n",
    "\n",
    "PROJECT_ROOT_DIR = \".\"\n",
    "IMAGES_PATH = os.path.join(PROJECT_ROOT_DIR, \"images\")\n",
    "os.makedirs(IMAGES_PATH, exist_ok=True)\n",
    "\n",
    "def save_fig(fig_id, tight_layout=True, fig_extension=\"png\", resolution=300):\n",
    "    path = os.path.join(IMAGES_PATH, fig_id + \".\" + fig_extension)\n",
    "    print(\"Saving figure\", fig_id)\n",
    "    if tight_layout:\n",
    "        plt.tight_layout()\n",
    "    plt.savefig(path, format=fig_extension, dpi=resolution)\n",
    "\n"
   ]
  },
  {
   "cell_type": "code",
   "execution_count": 2,
   "id": "36e8de41-79b9-47e7-8784-fc375b6d33b6",
   "metadata": {},
   "outputs": [
    {
     "data": {
      "text/plain": [
       "dict_keys(['data', 'target', 'frame', 'categories', 'feature_names', 'target_names', 'DESCR', 'details', 'url'])"
      ]
     },
     "execution_count": 2,
     "metadata": {},
     "output_type": "execute_result"
    }
   ],
   "source": [
    "from sklearn.datasets import fetch_openml\n",
    "mnist = fetch_openml('mnist_784', version=1, as_frame=False)\n",
    "mnist.keys()"
   ]
  },
  {
   "cell_type": "code",
   "execution_count": 124,
   "id": "c84466a3-27d7-43b1-ae90-60a8783c2e14",
   "metadata": {},
   "outputs": [],
   "source": [
    "# EXTRA\n",
    "import math\n",
    "def plot_digits(instances, images_per_row=10, **options):\n",
    "    size = 28\n",
    "    images_per_row = min(len(instances), images_per_row)\n",
    "    n_rows = math.ceil(len(instances) / images_per_row)\n",
    "    # n_rows = (len(instances) - 1) // images_per_row + 1\n",
    "\n",
    "    # Append empty images to fill the end of the grid, if needed:\n",
    "    n_empty = n_rows * images_per_row - len(instances)\n",
    "    padded_instances = np.concatenate([instances, np.zeros((n_empty, size * size))], axis=0)\n",
    "\n",
    "    # Reshape the array so it's organized as a grid containing 28×28 images:\n",
    "    image_grid = padded_instances.reshape((n_rows, images_per_row, size, size))\n",
    "\n",
    "    # Combine axes 0 and 2 (vertical image grid axis, and vertical image axis),\n",
    "    # and axes 1 and 3 (horizontal axes). We first need to move the axes that we\n",
    "    # want to combine next to each other, using transpose(), and only then we\n",
    "    # can reshape:\n",
    "    big_image = image_grid.transpose(0, 2, 1, 3).reshape(n_rows * size,\n",
    "                                                         images_per_row * size)\n",
    "    # Now that we have a big image, we just need to show it:\n",
    "    plt.imshow(big_image, cmap = mpl.cm.binary, **options)\n",
    "    plt.axis(\"off\")"
   ]
  },
  {
   "cell_type": "code",
   "execution_count": 6,
   "id": "266d3827-8a30-498e-b709-c0a5c3c85fe3",
   "metadata": {},
   "outputs": [],
   "source": [
    "X, y = mnist[\"data\"], mnist[\"target\"]"
   ]
  },
  {
   "cell_type": "code",
   "execution_count": 7,
   "id": "5ce1efb0-2fea-4461-a9de-4c548202fdc7",
   "metadata": {},
   "outputs": [
    {
     "data": {
      "text/plain": [
       "(70000, 784)"
      ]
     },
     "execution_count": 7,
     "metadata": {},
     "output_type": "execute_result"
    }
   ],
   "source": [
    "X.shape"
   ]
  },
  {
   "cell_type": "code",
   "execution_count": 8,
   "id": "abc40bca-27e1-4504-bcff-c86158f5db97",
   "metadata": {},
   "outputs": [
    {
     "data": {
      "text/plain": [
       "(70000,)"
      ]
     },
     "execution_count": 8,
     "metadata": {},
     "output_type": "execute_result"
    }
   ],
   "source": [
    "y.shape"
   ]
  },
  {
   "cell_type": "markdown",
   "id": "ed5996de-ad8b-4439-878f-90f4680feba3",
   "metadata": {},
   "source": [
    "There are 70,000 images and each image has (784 features) \n",
    "\n",
    "784 features = 28 x 28 pixels. (each pixel represents a intensity from 0 (white) to 255 (black)"
   ]
  },
  {
   "cell_type": "code",
   "execution_count": 11,
   "id": "e9bef1e4-50bf-4682-a62d-f701600600a4",
   "metadata": {},
   "outputs": [],
   "source": [
    "some_digit = X[0]\n",
    "some_digit_image = some_digit.reshape(28,28)"
   ]
  },
  {
   "cell_type": "code",
   "execution_count": 12,
   "id": "7ee368b9-68b3-425d-af46-d0df59e6934b",
   "metadata": {},
   "outputs": [
    {
     "data": {
      "image/png": "[encoded data removed]",
      "text/plain": [
       "<Figure size 640x480 with 1 Axes>"
      ]
     },
     "metadata": {},
     "output_type": "display_data"
    }
   ],
   "source": [
    "plt.imshow(some_digit_image, cmap=\"binary\")\n",
    "plt.axis(\"off\")\n",
    "plt.show()"
   ]
  },
  {
   "cell_type": "code",
   "execution_count": 13,
   "id": "e1eedbb2-61ac-4e40-b2fd-290a8e190ba9",
   "metadata": {},
   "outputs": [
    {
     "data": {
      "text/plain": [
       "'5'"
      ]
     },
     "execution_count": 13,
     "metadata": {},
     "output_type": "execute_result"
    }
   ],
   "source": [
    "y[0]"
   ]
  },
  {
   "cell_type": "markdown",
   "id": "4bca9951-523d-4dc2-bebe-0eab9ee01eff",
   "metadata": {},
   "source": [
    "the label has '5' as string. ML algorithms like numbers so we will cast y to integer"
   ]
  },
  {
   "cell_type": "code",
   "execution_count": 14,
   "id": "59ea8039-5131-4ffe-b00d-bc08e4eade39",
   "metadata": {},
   "outputs": [],
   "source": [
    "y = y.astype(np.uint8)"
   ]
  },
  {
   "cell_type": "markdown",
   "id": "c50427c8-564e-420b-8c4b-0dec152b9ee8",
   "metadata": {},
   "source": [
    "MNIST data is already split into a training set (first 60,000 images) and a test set (last 10,000 images)"
   ]
  },
  {
   "cell_type": "code",
   "execution_count": 15,
   "id": "8684f8c3-ac58-48b1-bb2e-b1f4be8db8bc",
   "metadata": {},
   "outputs": [],
   "source": [
    "X_train, X_test, y_train, y_test = X[:60000], X[60000:], y[:60000],y[60000:]"
   ]
  },
  {
   "cell_type": "markdown",
   "id": "453c7ec0-f1a3-4a06-97fc-a33bbfe1f4b0",
   "metadata": {},
   "source": [
    "## Training a Binary Classifier\n",
    "\n",
    "We will only try to identify 1 digit for now. This \"5-detector\" will be a binary calssifier"
   ]
  },
  {
   "cell_type": "code",
   "execution_count": 16,
   "id": "b7a4491d-864b-484c-920d-bbb6e1a6fd76",
   "metadata": {},
   "outputs": [],
   "source": [
    "y_train_5 = (y_train==5)\n",
    "y_test_5 = (y_test==5)"
   ]
  },
  {
   "cell_type": "markdown",
   "id": "56e0e8cc-3567-46ac-8be3-9bb1e7d6a09e",
   "metadata": {},
   "source": [
    "We will choose *Stochastic Gradient Descent (SGD)* classifier `SGDClassifier` class\n",
    "\n",
    "This has the advantage of being capable of handling large datasets efficiently.\n",
    "\n",
    "-sgd also has advantage of dealing with training instances independently, one at a time (this makes SGD good for online learning)"
   ]
  },
  {
   "cell_type": "code",
   "execution_count": 17,
   "id": "0ab81c7b-3027-47a6-922f-0bf3edfecd0e",
   "metadata": {},
   "outputs": [
    {
     "data": {
      "text/html": [
       "<style>#sk-container-id-1 {\n",
       "  /* Definition of color scheme common for light and dark mode */\n",
       "  --sklearn-color-text: black;\n",
       "  --sklearn-color-line: gray;\n",
       "  /* Definition of color scheme for unfitted estimators */\n",
       "  --sklearn-color-unfitted-level-0: #fff5e6;\n",
       "  --sklearn-color-unfitted-level-1: #f6e4d2;\n",
       "  --sklearn-color-unfitted-level-2: #ffe0b3;\n",
       "  --sklearn-color-unfitted-level-3: chocolate;\n",
       "  /* Definition of color scheme for fitted estimators */\n",
       "  --sklearn-color-fitted-level-0: #f0f8ff;\n",
       "  --sklearn-color-fitted-level-1: #d4ebff;\n",
       "  --sklearn-color-fitted-level-2: #b3dbfd;\n",
       "  --sklearn-color-fitted-level-3: cornflowerblue;\n",
       "\n",
       "  /* Specific color for light theme */\n",
       "  --sklearn-color-text-on-default-background: var(--sg-text-color, var(--theme-code-foreground, var(--jp-content-font-color1, black)));\n",
       "  --sklearn-color-background: var(--sg-background-color, var(--theme-background, var(--jp-layout-color0, white)));\n",
       "  --sklearn-color-border-box: var(--sg-text-color, var(--theme-code-foreground, var(--jp-content-font-color1, black)));\n",
       "  --sklearn-color-icon: #696969;\n",
       "\n",
       "  @media (prefers-color-scheme: dark) {\n",
       "    /* Redefinition of color scheme for dark theme */\n",
       "    --sklearn-color-text-on-default-background: var(--sg-text-color, var(--theme-code-foreground, var(--jp-content-font-color1, white)));\n",
       "    --sklearn-color-background: var(--sg-background-color, var(--theme-background, var(--jp-layout-color0, #111)));\n",
       "    --sklearn-color-border-box: var(--sg-text-color, var(--theme-code-foreground, var(--jp-content-font-color1, white)));\n",
       "    --sklearn-color-icon: #878787;\n",
       "  }\n",
       "}\n",
       "\n",
       "#sk-container-id-1 {\n",
       "  color: var(--sklearn-color-text);\n",
       "}\n",
       "\n",
       "#sk-container-id-1 pre {\n",
       "  padding: 0;\n",
       "}\n",
       "\n",
       "#sk-container-id-1 input.sk-hidden--visually {\n",
       "  border: 0;\n",
       "  clip: rect(1px 1px 1px 1px);\n",
       "  clip: rect(1px, 1px, 1px, 1px);\n",
       "  height: 1px;\n",
       "  margin: -1px;\n",
       "  overflow: hidden;\n",
       "  padding: 0;\n",
       "  position: absolute;\n",
       "  width: 1px;\n",
       "}\n",
       "\n",
       "#sk-container-id-1 div.sk-dashed-wrapped {\n",
       "  border: 1px dashed var(--sklearn-color-line);\n",
       "  margin: 0 0.4em 0.5em 0.4em;\n",
       "  box-sizing: border-box;\n",
       "  padding-bottom: 0.4em;\n",
       "  background-color: var(--sklearn-color-background);\n",
       "}\n",
       "\n",
       "#sk-container-id-1 div.sk-container {\n",
       "  /* jupyter's `normalize.less` sets `[hidden] { display: none; }`\n",
       "     but bootstrap.min.css set `[hidden] { display: none !important; }`\n",
       "     so we also need the `!important` here to be able to override the\n",
       "     default hidden behavior on the sphinx rendered scikit-learn.org.\n",
       "     See: https://github.com/scikit-learn/scikit-learn/issues/21755 */\n",
       "  display: inline-block !important;\n",
       "  position: relative;\n",
       "}\n",
       "\n",
       "#sk-container-id-1 div.sk-text-repr-fallback {\n",
       "  display: none;\n",
       "}\n",
       "\n",
       "div.sk-parallel-item,\n",
       "div.sk-serial,\n",
       "div.sk-item {\n",
       "  /* draw centered vertical line to link estimators */\n",
       "  background-image: linear-gradient(var(--sklearn-color-text-on-default-background), var(--sklearn-color-text-on-default-background));\n",
       "  background-size: 2px 100%;\n",
       "  background-repeat: no-repeat;\n",
       "  background-position: center center;\n",
       "}\n",
       "\n",
       "/* Parallel-specific style estimator block */\n",
       "\n",
       "#sk-container-id-1 div.sk-parallel-item::after {\n",
       "  content: \"\";\n",
       "  width: 100%;\n",
       "  border-bottom: 2px solid var(--sklearn-color-text-on-default-background);\n",
       "  flex-grow: 1;\n",
       "}\n",
       "\n",
       "#sk-container-id-1 div.sk-parallel {\n",
       "  display: flex;\n",
       "  align-items: stretch;\n",
       "  justify-content: center;\n",
       "  background-color: var(--sklearn-color-background);\n",
       "  position: relative;\n",
       "}\n",
       "\n",
       "#sk-container-id-1 div.sk-parallel-item {\n",
       "  display: flex;\n",
       "  flex-direction: column;\n",
       "}\n",
       "\n",
       "#sk-container-id-1 div.sk-parallel-item:first-child::after {\n",
       "  align-self: flex-end;\n",
       "  width: 50%;\n",
       "}\n",
       "\n",
       "#sk-container-id-1 div.sk-parallel-item:last-child::after {\n",
       "  align-self: flex-start;\n",
       "  width: 50%;\n",
       "}\n",
       "\n",
       "#sk-container-id-1 div.sk-parallel-item:only-child::after {\n",
       "  width: 0;\n",
       "}\n",
       "\n",
       "/* Serial-specific style estimator block */\n",
       "\n",
       "#sk-container-id-1 div.sk-serial {\n",
       "  display: flex;\n",
       "  flex-direction: column;\n",
       "  align-items: center;\n",
       "  background-color: var(--sklearn-color-background);\n",
       "  padding-right: 1em;\n",
       "  padding-left: 1em;\n",
       "}\n",
       "\n",
       "\n",
       "/* Toggleable style: style used for estimator/Pipeline/ColumnTransformer box that is\n",
       "clickable and can be expanded/collapsed.\n",
       "- Pipeline and ColumnTransformer use this feature and define the default style\n",
       "- Estimators will overwrite some part of the style using the `sk-estimator` class\n",
       "*/\n",
       "\n",
       "/* Pipeline and ColumnTransformer style (default) */\n",
       "\n",
       "#sk-container-id-1 div.sk-toggleable {\n",
       "  /* Default theme specific background. It is overwritten whether we have a\n",
       "  specific estimator or a Pipeline/ColumnTransformer */\n",
       "  background-color: var(--sklearn-color-background);\n",
       "}\n",
       "\n",
       "/* Toggleable label */\n",
       "#sk-container-id-1 label.sk-toggleable__label {\n",
       "  cursor: pointer;\n",
       "  display: block;\n",
       "  width: 100%;\n",
       "  margin-bottom: 0;\n",
       "  padding: 0.5em;\n",
       "  box-sizing: border-box;\n",
       "  text-align: center;\n",
       "}\n",
       "\n",
       "#sk-container-id-1 label.sk-toggleable__label-arrow:before {\n",
       "  /* Arrow on the left of the label */\n",
       "  content: \"▸\";\n",
       "  float: left;\n",
       "  margin-right: 0.25em;\n",
       "  color: var(--sklearn-color-icon);\n",
       "}\n",
       "\n",
       "#sk-container-id-1 label.sk-toggleable__label-arrow:hover:before {\n",
       "  color: var(--sklearn-color-text);\n",
       "}\n",
       "\n",
       "/* Toggleable content - dropdown */\n",
       "\n",
       "#sk-container-id-1 div.sk-toggleable__content {\n",
       "  max-height: 0;\n",
       "  max-width: 0;\n",
       "  overflow: hidden;\n",
       "  text-align: left;\n",
       "  /* unfitted */\n",
       "  background-color: var(--sklearn-color-unfitted-level-0);\n",
       "}\n",
       "\n",
       "#sk-container-id-1 div.sk-toggleable__content.fitted {\n",
       "  /* fitted */\n",
       "  background-color: var(--sklearn-color-fitted-level-0);\n",
       "}\n",
       "\n",
       "#sk-container-id-1 div.sk-toggleable__content pre {\n",
       "  margin: 0.2em;\n",
       "  border-radius: 0.25em;\n",
       "  color: var(--sklearn-color-text);\n",
       "  /* unfitted */\n",
       "  background-color: var(--sklearn-color-unfitted-level-0);\n",
       "}\n",
       "\n",
       "#sk-container-id-1 div.sk-toggleable__content.fitted pre {\n",
       "  /* unfitted */\n",
       "  background-color: var(--sklearn-color-fitted-level-0);\n",
       "}\n",
       "\n",
       "#sk-container-id-1 input.sk-toggleable__control:checked~div.sk-toggleable__content {\n",
       "  /* Expand drop-down */\n",
       "  max-height: 200px;\n",
       "  max-width: 100%;\n",
       "  overflow: auto;\n",
       "}\n",
       "\n",
       "#sk-container-id-1 input.sk-toggleable__control:checked~label.sk-toggleable__label-arrow:before {\n",
       "  content: \"▾\";\n",
       "}\n",
       "\n",
       "/* Pipeline/ColumnTransformer-specific style */\n",
       "\n",
       "#sk-container-id-1 div.sk-label input.sk-toggleable__control:checked~label.sk-toggleable__label {\n",
       "  color: var(--sklearn-color-text);\n",
       "  background-color: var(--sklearn-color-unfitted-level-2);\n",
       "}\n",
       "\n",
       "#sk-container-id-1 div.sk-label.fitted input.sk-toggleable__control:checked~label.sk-toggleable__label {\n",
       "  background-color: var(--sklearn-color-fitted-level-2);\n",
       "}\n",
       "\n",
       "/* Estimator-specific style */\n",
       "\n",
       "/* Colorize estimator box */\n",
       "#sk-container-id-1 div.sk-estimator input.sk-toggleable__control:checked~label.sk-toggleable__label {\n",
       "  /* unfitted */\n",
       "  background-color: var(--sklearn-color-unfitted-level-2);\n",
       "}\n",
       "\n",
       "#sk-container-id-1 div.sk-estimator.fitted input.sk-toggleable__control:checked~label.sk-toggleable__label {\n",
       "  /* fitted */\n",
       "  background-color: var(--sklearn-color-fitted-level-2);\n",
       "}\n",
       "\n",
       "#sk-container-id-1 div.sk-label label.sk-toggleable__label,\n",
       "#sk-container-id-1 div.sk-label label {\n",
       "  /* The background is the default theme color */\n",
       "  color: var(--sklearn-color-text-on-default-background);\n",
       "}\n",
       "\n",
       "/* On hover, darken the color of the background */\n",
       "#sk-container-id-1 div.sk-label:hover label.sk-toggleable__label {\n",
       "  color: var(--sklearn-color-text);\n",
       "  background-color: var(--sklearn-color-unfitted-level-2);\n",
       "}\n",
       "\n",
       "/* Label box, darken color on hover, fitted */\n",
       "#sk-container-id-1 div.sk-label.fitted:hover label.sk-toggleable__label.fitted {\n",
       "  color: var(--sklearn-color-text);\n",
       "  background-color: var(--sklearn-color-fitted-level-2);\n",
       "}\n",
       "\n",
       "/* Estimator label */\n",
       "\n",
       "#sk-container-id-1 div.sk-label label {\n",
       "  font-family: monospace;\n",
       "  font-weight: bold;\n",
       "  display: inline-block;\n",
       "  line-height: 1.2em;\n",
       "}\n",
       "\n",
       "#sk-container-id-1 div.sk-label-container {\n",
       "  text-align: center;\n",
       "}\n",
       "\n",
       "/* Estimator-specific */\n",
       "#sk-container-id-1 div.sk-estimator {\n",
       "  font-family: monospace;\n",
       "  border: 1px dotted var(--sklearn-color-border-box);\n",
       "  border-radius: 0.25em;\n",
       "  box-sizing: border-box;\n",
       "  margin-bottom: 0.5em;\n",
       "  /* unfitted */\n",
       "  background-color: var(--sklearn-color-unfitted-level-0);\n",
       "}\n",
       "\n",
       "#sk-container-id-1 div.sk-estimator.fitted {\n",
       "  /* fitted */\n",
       "  background-color: var(--sklearn-color-fitted-level-0);\n",
       "}\n",
       "\n",
       "/* on hover */\n",
       "#sk-container-id-1 div.sk-estimator:hover {\n",
       "  /* unfitted */\n",
       "  background-color: var(--sklearn-color-unfitted-level-2);\n",
       "}\n",
       "\n",
       "#sk-container-id-1 div.sk-estimator.fitted:hover {\n",
       "  /* fitted */\n",
       "  background-color: var(--sklearn-color-fitted-level-2);\n",
       "}\n",
       "\n",
       "/* Specification for estimator info (e.g. \"i\" and \"?\") */\n",
       "\n",
       "/* Common style for \"i\" and \"?\" */\n",
       "\n",
       ".sk-estimator-doc-link,\n",
       "a:link.sk-estimator-doc-link,\n",
       "a:visited.sk-estimator-doc-link {\n",
       "  float: right;\n",
       "  font-size: smaller;\n",
       "  line-height: 1em;\n",
       "  font-family: monospace;\n",
       "  background-color: var(--sklearn-color-background);\n",
       "  border-radius: 1em;\n",
       "  height: 1em;\n",
       "  width: 1em;\n",
       "  text-decoration: none !important;\n",
       "  margin-left: 1ex;\n",
       "  /* unfitted */\n",
       "  border: var(--sklearn-color-unfitted-level-1) 1pt solid;\n",
       "  color: var(--sklearn-color-unfitted-level-1);\n",
       "}\n",
       "\n",
       ".sk-estimator-doc-link.fitted,\n",
       "a:link.sk-estimator-doc-link.fitted,\n",
       "a:visited.sk-estimator-doc-link.fitted {\n",
       "  /* fitted */\n",
       "  border: var(--sklearn-color-fitted-level-1) 1pt solid;\n",
       "  color: var(--sklearn-color-fitted-level-1);\n",
       "}\n",
       "\n",
       "/* On hover */\n",
       "div.sk-estimator:hover .sk-estimator-doc-link:hover,\n",
       ".sk-estimator-doc-link:hover,\n",
       "div.sk-label-container:hover .sk-estimator-doc-link:hover,\n",
       ".sk-estimator-doc-link:hover {\n",
       "  /* unfitted */\n",
       "  background-color: var(--sklearn-color-unfitted-level-3);\n",
       "  color: var(--sklearn-color-background);\n",
       "  text-decoration: none;\n",
       "}\n",
       "\n",
       "div.sk-estimator.fitted:hover .sk-estimator-doc-link.fitted:hover,\n",
       ".sk-estimator-doc-link.fitted:hover,\n",
       "div.sk-label-container:hover .sk-estimator-doc-link.fitted:hover,\n",
       ".sk-estimator-doc-link.fitted:hover {\n",
       "  /* fitted */\n",
       "  background-color: var(--sklearn-color-fitted-level-3);\n",
       "  color: var(--sklearn-color-background);\n",
       "  text-decoration: none;\n",
       "}\n",
       "\n",
       "/* Span, style for the box shown on hovering the info icon */\n",
       ".sk-estimator-doc-link span {\n",
       "  display: none;\n",
       "  z-index: 9999;\n",
       "  position: relative;\n",
       "  font-weight: normal;\n",
       "  right: .2ex;\n",
       "  padding: .5ex;\n",
       "  margin: .5ex;\n",
       "  width: min-content;\n",
       "  min-width: 20ex;\n",
       "  max-width: 50ex;\n",
       "  color: var(--sklearn-color-text);\n",
       "  box-shadow: 2pt 2pt 4pt #999;\n",
       "  /* unfitted */\n",
       "  background: var(--sklearn-color-unfitted-level-0);\n",
       "  border: .5pt solid var(--sklearn-color-unfitted-level-3);\n",
       "}\n",
       "\n",
       ".sk-estimator-doc-link.fitted span {\n",
       "  /* fitted */\n",
       "  background: var(--sklearn-color-fitted-level-0);\n",
       "  border: var(--sklearn-color-fitted-level-3);\n",
       "}\n",
       "\n",
       ".sk-estimator-doc-link:hover span {\n",
       "  display: block;\n",
       "}\n",
       "\n",
       "/* \"?\"-specific style due to the `<a>` HTML tag */\n",
       "\n",
       "#sk-container-id-1 a.estimator_doc_link {\n",
       "  float: right;\n",
       "  font-size: 1rem;\n",
       "  line-height: 1em;\n",
       "  font-family: monospace;\n",
       "  background-color: var(--sklearn-color-background);\n",
       "  border-radius: 1rem;\n",
       "  height: 1rem;\n",
       "  width: 1rem;\n",
       "  text-decoration: none;\n",
       "  /* unfitted */\n",
       "  color: var(--sklearn-color-unfitted-level-1);\n",
       "  border: var(--sklearn-color-unfitted-level-1) 1pt solid;\n",
       "}\n",
       "\n",
       "#sk-container-id-1 a.estimator_doc_link.fitted {\n",
       "  /* fitted */\n",
       "  border: var(--sklearn-color-fitted-level-1) 1pt solid;\n",
       "  color: var(--sklearn-color-fitted-level-1);\n",
       "}\n",
       "\n",
       "/* On hover */\n",
       "#sk-container-id-1 a.estimator_doc_link:hover {\n",
       "  /* unfitted */\n",
       "  background-color: var(--sklearn-color-unfitted-level-3);\n",
       "  color: var(--sklearn-color-background);\n",
       "  text-decoration: none;\n",
       "}\n",
       "\n",
       "#sk-container-id-1 a.estimator_doc_link.fitted:hover {\n",
       "  /* fitted */\n",
       "  background-color: var(--sklearn-color-fitted-level-3);\n",
       "}\n",
       "</style><div id=\"sk-container-id-1\" class=\"sk-top-container\"><div class=\"sk-text-repr-fallback\"><pre>SGDClassifier(random_state=42)</pre><b>In a Jupyter environment, please rerun this cell to show the HTML representation or trust the notebook. <br />On GitHub, the HTML representation is unable to render, please try loading this page with nbviewer.org.</b></div><div class=\"sk-container\" hidden><div class=\"sk-item\"><div class=\"sk-estimator fitted sk-toggleable\"><input class=\"sk-toggleable__control sk-hidden--visually\" id=\"sk-estimator-id-1\" type=\"checkbox\" checked><label for=\"sk-estimator-id-1\" class=\"sk-toggleable__label fitted sk-toggleable__label-arrow fitted\">&nbsp;&nbsp;SGDClassifier<a class=\"sk-estimator-doc-link fitted\" rel=\"noreferrer\" target=\"_blank\" href=\"https://scikit-learn.org/1.4/modules/generated/sklearn.linear_model.SGDClassifier.html\">?<span>Documentation for SGDClassifier</span></a><span class=\"sk-estimator-doc-link fitted\">i<span>Fitted</span></span></label><div class=\"sk-toggleable__content fitted\"><pre>SGDClassifier(random_state=42)</pre></div> </div></div></div></div>"
      ],
      "text/plain": [
       "SGDClassifier(random_state=42)"
      ]
     },
     "execution_count": 17,
     "metadata": {},
     "output_type": "execute_result"
    }
   ],
   "source": [
    "from sklearn.linear_model import SGDClassifier\n",
    "\n",
    "sgd_clf = SGDClassifier(max_iter=1000, tol=1e-3, random_state=42)\n",
    "sgd_clf.fit(X_train, y_train_5)"
   ]
  },
  {
   "cell_type": "code",
   "execution_count": 18,
   "id": "0723a6e8-e9cb-4e84-85fe-e9c1290a9e23",
   "metadata": {},
   "outputs": [
    {
     "data": {
      "text/plain": [
       "array([ True])"
      ]
     },
     "execution_count": 18,
     "metadata": {},
     "output_type": "execute_result"
    }
   ],
   "source": [
    "sgd_clf.predict([some_digit])"
   ]
  },
  {
   "cell_type": "markdown",
   "id": "4e207766-5cd5-4639-a85b-f8bd603d7e95",
   "metadata": {},
   "source": [
    "It was able to predict that the given digit '5' was indeed 5!\n",
    "\n",
    "## Performance measure\n",
    "\n",
    "Evaluating a classifier is more trickier than evaluating a regressor\n",
    "\n",
    "### Measuring Accuracy Using Cross-Validation\n",
    "\n",
    "Great to measure a model performance is through **Cross-validation**"
   ]
  },
  {
   "cell_type": "code",
   "execution_count": 20,
   "id": "8b36aa46-26c9-44d7-9234-70825ad97e78",
   "metadata": {},
   "outputs": [
    {
     "data": {
      "text/plain": [
       "array([0.95035, 0.96035, 0.9604 ])"
      ]
     },
     "execution_count": 20,
     "metadata": {},
     "output_type": "execute_result"
    }
   ],
   "source": [
    "from sklearn.model_selection import cross_val_score\n",
    "cross_val_score(estimator=sgd_clf, X=X_train, y=y_train_5,cv=3, scoring='accuracy')"
   ]
  },
  {
   "cell_type": "code",
   "execution_count": 25,
   "id": "4f20b794-e994-40a4-81a7-f6151566f74d",
   "metadata": {},
   "outputs": [
    {
     "data": {
      "text/plain": [
       "array([5, 0, 4, ..., 5, 6, 8], dtype=uint8)"
      ]
     },
     "execution_count": 25,
     "metadata": {},
     "output_type": "execute_result"
    }
   ],
   "source": [
    "y_train"
   ]
  },
  {
   "cell_type": "code",
   "execution_count": 28,
   "id": "a0072e74-3f36-47b7-a413-0434661e4668",
   "metadata": {},
   "outputs": [
    {
     "name": "stdout",
     "output_type": "stream",
     "text": [
      "0.9669\n",
      "0.91625\n",
      "0.96785\n"
     ]
    }
   ],
   "source": [
    "from sklearn.model_selection import StratifiedKFold\n",
    "from sklearn.base import clone\n",
    "\n",
    "skfolds = StratifiedKFold(n_splits=3, shuffle=True,random_state=42)\n",
    "\n",
    "for train_index, test_index in skfolds.split(X_train,y_train_5):\n",
    "    clone_clf = clone(sgd_clf)\n",
    "    X_train_folds = X_train[train_index]\n",
    "    y_train_folds = y_train_5[train_index]\n",
    "    X_test_fold = X_train[test_index]\n",
    "    y_test_fold = y_train_5[test_index]\n",
    "\n",
    "    clone_clf.fit(X_train_folds,y_train_folds)\n",
    "    y_pred = clone_clf.predict(X_test_fold)\n",
    "    n_correct = sum(y_pred==y_test_fold)\n",
    "    print(n_correct/len(y_pred))"
   ]
  },
  {
   "cell_type": "markdown",
   "id": "e4148cd8-23c9-49b0-aa1d-3be45f9673c4",
   "metadata": {},
   "source": [
    "Although the accuracy comes out to over 90% accuracy, remember... This is simply because **only about 10% of the images are 5s** so if you always guess that an image is not a 5, you will be right about 90% of the time"
   ]
  },
  {
   "cell_type": "code",
   "execution_count": 29,
   "id": "e5d2c868-5eb4-4b6b-bc0c-a1e3555d1d37",
   "metadata": {},
   "outputs": [],
   "source": [
    "from sklearn.base import BaseEstimator\n",
    "\n",
    "class Never5Classifier(BaseEstimator):\n",
    "    def fit(self, X, y=None):\n",
    "        pass\n",
    "    def predict(self,X):\n",
    "        return np.zeros((len(X), 1), dtype=bool)\n",
    "        "
   ]
  },
  {
   "cell_type": "code",
   "execution_count": 32,
   "id": "b5614d7a-fd60-4798-9964-84192f8a263a",
   "metadata": {},
   "outputs": [
    {
     "data": {
      "text/plain": [
       "array([0.91125, 0.90855, 0.90915])"
      ]
     },
     "execution_count": 32,
     "metadata": {},
     "output_type": "execute_result"
    }
   ],
   "source": [
    "never_5_clf = Never5Classifier()\n",
    "cross_val_score(never_5_clf, X_train, y_train_5, cv=3, scoring=\"accuracy\")"
   ]
  },
  {
   "cell_type": "markdown",
   "id": "9bc5c839-8b14-4b7d-80ca-b202f7a61b95",
   "metadata": {},
   "source": [
    "See? this also returns 90% above because only about 10% images are 5s\n",
    "\n",
    "This shows why accuracy is generally not the preferred perofrmance measure for classifiers, especially when you are dealing with *skewed data*"
   ]
  },
  {
   "cell_type": "markdown",
   "id": "50a4f2d4-2ed1-4b83-a368-cf992c6df0dc",
   "metadata": {},
   "source": [
    "## Confusion Matrix\n",
    "\n",
    "For classifier, use *confusion Matrix*\n",
    "\n",
    "General idea is to *count the number of times intances of class A are classfied as class B.*\n",
    "\n",
    "i.e. how many times model confused number 5 and 3. we would look at fifth row and third column"
   ]
  },
  {
   "cell_type": "markdown",
   "id": "fa2d469f-da42-45c8-8021-b7f4599ac897",
   "metadata": {},
   "source": [
    "To do confusion matrix we need:\n",
    "\n",
    "- set of predictions so that they can be compared to the actual targets\n"
   ]
  },
  {
   "cell_type": "code",
   "execution_count": 33,
   "id": "e8f584de-c9f1-4935-8737-092f01e27cd7",
   "metadata": {},
   "outputs": [],
   "source": [
    "from sklearn.model_selection import cross_val_predict\n",
    "\n",
    "y_train_pred = cross_val_predict(sgd_clf, X_train, y_train_5, cv=3)"
   ]
  },
  {
   "cell_type": "markdown",
   "id": "919a2c92-48bb-4009-9091-0752e9d0894f",
   "metadata": {},
   "source": [
    "just like `cross_val_score()` function, `cross_val_predict()` performs k-fold cross-validation but instead of returning evaluation scores, it retuns the predictions made on each test fold. so we get clean prediction for each instance in the training set"
   ]
  },
  {
   "cell_type": "code",
   "execution_count": 34,
   "id": "eaab8a71-a767-4496-8a60-14dc910e289b",
   "metadata": {},
   "outputs": [
    {
     "data": {
      "text/plain": [
       "array([[53892,   687],\n",
       "       [ 1891,  3530]])"
      ]
     },
     "execution_count": 34,
     "metadata": {},
     "output_type": "execute_result"
    }
   ],
   "source": [
    "from sklearn.metrics import confusion_matrix\n",
    "\n",
    "confusion_matrix(y_train_5, y_train_pred) #target class = y_train_5 and predicted class = y_train_pred"
   ]
  },
  {
   "cell_type": "markdown",
   "id": "40782ab5-d268-4447-a569-b391aa320ad8",
   "metadata": {},
   "source": [
    "Each row in confusion matrix represents an *actual class*, while each column represents a *predicted* class. \n",
    "\n",
    "The first row of this matrix considers non-5 images (*negative class*). 53892 of them were correctly classified as non-5s (*true negative*)\n",
    "\n",
    "While remaining 687 were wrongly classified as 6s (*false positives*)\n",
    "\n",
    "Second row considers the images of 5s (*positive class*). 1891 were wrongly classified as non-5s (*false negatives*)\n",
    "\n",
    "while remainin 3530 were correctly classified as 5s (*true positives*)\n",
    "\n",
    "TN|FP\n",
    "\n",
    "FN|TP"
   ]
  },
  {
   "cell_type": "markdown",
   "id": "2f4768a4-e535-47db-9998-d770031eee2b",
   "metadata": {},
   "source": [
    "## Precision vs Recall\n",
    "\n",
    "TP is the number of True Positive. FP is the number of False Positive\n",
    "\n",
    "$$\n",
    "precision = \\frac{TP}{TP+FP}\n",
    "$$\n",
    "Precision is the accuracy of the positive predictions\n",
    "\n",
    "$$\n",
    "recall = \\frac{TP}{TP+FN}\n",
    "$$\n",
    "Recall is also known as *sensitivity* or *true positive rate (TPR)*"
   ]
  },
  {
   "cell_type": "code",
   "execution_count": 37,
   "id": "ec3d0633-d064-42a2-9974-4689a1df521c",
   "metadata": {},
   "outputs": [
    {
     "data": {
      "text/plain": [
       "0.8370879772350012"
      ]
     },
     "execution_count": 37,
     "metadata": {},
     "output_type": "execute_result"
    }
   ],
   "source": [
    "from sklearn.metrics import precision_score, recall_score\n",
    "\n",
    "precision_score(y_train_5, y_train_pred)\n"
   ]
  },
  {
   "cell_type": "code",
   "execution_count": 38,
   "id": "cc75e7b4-2746-44d0-8c04-8dbad09e2c19",
   "metadata": {},
   "outputs": [
    {
     "data": {
      "text/plain": [
       "0.8370879772350012"
      ]
     },
     "execution_count": 38,
     "metadata": {},
     "output_type": "execute_result"
    }
   ],
   "source": [
    "cm = confusion_matrix(y_train_5, y_train_pred)\n",
    "cm[1,1] / (cm[1,1]+cm[0,1])"
   ]
  },
  {
   "cell_type": "code",
   "execution_count": 39,
   "id": "224d18e4-5b4c-402f-ad42-deeb00f4961a",
   "metadata": {},
   "outputs": [
    {
     "data": {
      "text/plain": [
       "0.6511713705958311"
      ]
     },
     "execution_count": 39,
     "metadata": {},
     "output_type": "execute_result"
    }
   ],
   "source": [
    "recall_score(y_train_5, y_train_pred)"
   ]
  },
  {
   "cell_type": "code",
   "execution_count": 40,
   "id": "454cd3b1-6d75-4f89-ab79-4a6dfb03261f",
   "metadata": {},
   "outputs": [
    {
     "data": {
      "text/plain": [
       "0.6511713705958311"
      ]
     },
     "execution_count": 40,
     "metadata": {},
     "output_type": "execute_result"
    }
   ],
   "source": [
    "cm[1,1]/(cm[1,0]+cm[1,1])"
   ]
  },
  {
   "cell_type": "markdown",
   "id": "0b570c92-769a-48ee-aba5-0b3af26f244a",
   "metadata": {},
   "source": [
    "5-detector doesn't look as shiny as it did when you looked at its accuracy. When it claimed the image represents a 5, it is correct only 83.7% of the time. Moreover, it only detects 65.12% of the 5s. \n",
    "\n",
    "It is often conveninent to combine *recall* and *precision* together to get a **F1** score.\n",
    "\n",
    "F1 score is a *harmonic mean* of the precision and recall. Harmonic mean gives much more weight to low values (whereas regular mean treats all values equally)\n",
    "\n",
    "$$\n",
    "F_1 = \\frac{2}{\\frac{1}{precision}+\\frac{1}{recall}}= 2 \\times \\frac{precision \\times recall}{precision + recall} = \\frac{TP}{TP+\\frac{FN+FP}{2}}\n",
    "$$\n",
    "\n",
    "In some cases, you want high precision, low recall (i.e. you want to detect videos that is safe for kids. you would want high precision and low recall. it will reject many good videos (low recall) but it will keep only safe ones (high precision). Another example is classifier to detect shoplifters in surveillance images. It is okay to have low precision as long as it has 99% recall. (security guards may get few false alerts, but almost all shoplifters will get caught)\n",
    "\n",
    "It is import tnat you can't have both ways: *increasing precision reduces recall, and vice versa*\n",
    "\n",
    "This is known as *precision/recall trade off*"
   ]
  },
  {
   "cell_type": "code",
   "execution_count": 41,
   "id": "d9d89384-7c5b-4955-8969-bec8baa99237",
   "metadata": {},
   "outputs": [
    {
     "data": {
      "text/plain": [
       "0.7325171197343847"
      ]
     },
     "execution_count": 41,
     "metadata": {},
     "output_type": "execute_result"
    }
   ],
   "source": [
    "from sklearn.metrics import f1_score\n",
    "f1_score(y_train_5, y_train_pred)"
   ]
  },
  {
   "cell_type": "markdown",
   "id": "ca290faf-ab0a-4eee-a6a6-2f1fec69d06e",
   "metadata": {},
   "source": [
    "## Precision / Recall Trade-off\n",
    "\n",
    "`SGDClassifier` makes its classification decision. For each instance, it computes a score based on a *decision function*. If the score is greater than a threshold, it assings the instance to the positive class; vice versa.\n",
    "\n",
    "Scikit-Learn does not let you set the threshold directly, but it does give you access to the decision scores that it uses to make predictions. Instead of calling classifier's `predict()` method, we can use `decision_function()` which returns a score for each instance, and then use any threshold you want to make predicions based on those scores"
   ]
  },
  {
   "cell_type": "code",
   "execution_count": 42,
   "id": "b931d97a-85d8-409b-a311-b087e9746ca2",
   "metadata": {},
   "outputs": [
    {
     "data": {
      "text/plain": [
       "array([2164.22030239])"
      ]
     },
     "execution_count": 42,
     "metadata": {},
     "output_type": "execute_result"
    }
   ],
   "source": [
    "y_scores = sgd_clf.decision_function([some_digit])\n",
    "y_scores"
   ]
  },
  {
   "cell_type": "code",
   "execution_count": 43,
   "id": "1fc0a753-3354-4dbb-8140-d52857c56c9c",
   "metadata": {},
   "outputs": [
    {
     "data": {
      "text/plain": [
       "array([ True])"
      ]
     },
     "execution_count": 43,
     "metadata": {},
     "output_type": "execute_result"
    }
   ],
   "source": [
    "threshold = 0\n",
    "y_some_digit_prediction = (y_scores > threshold)\n",
    "y_some_digit_prediction"
   ]
  },
  {
   "cell_type": "code",
   "execution_count": 44,
   "id": "2d8fa202-bff8-4ca5-9cb0-c58d14723021",
   "metadata": {},
   "outputs": [
    {
     "data": {
      "text/plain": [
       "array([False])"
      ]
     },
     "execution_count": 44,
     "metadata": {},
     "output_type": "execute_result"
    }
   ],
   "source": [
    "threshold = 8000\n",
    "y_some_digit_prediction = (y_scores > threshold)\n",
    "y_some_digit_prediction"
   ]
  },
  {
   "cell_type": "markdown",
   "id": "264562fa-abcb-4add-a53e-00edc29cae18",
   "metadata": {},
   "source": [
    "How to decide which threshold to use?\n",
    "\n",
    "1. use `cross_val_predict()` function to get the scores of all instances in the training set (specify decision_function)\n",
    "2. With these scores, use the `precision_recall_curve()` function to compute precision and recall for all possible threshold"
   ]
  },
  {
   "cell_type": "code",
   "execution_count": 62,
   "id": "d4c4b482-9078-46e3-a5e0-eb7e749a3160",
   "metadata": {},
   "outputs": [],
   "source": [
    "y_scores = cross_val_predict(sgd_clf, X_train, y_train_5, cv=3, method = \"decision_function\")"
   ]
  },
  {
   "cell_type": "code",
   "execution_count": 63,
   "id": "94cfee66-b88c-4de4-98c2-e8ac9e72376e",
   "metadata": {},
   "outputs": [],
   "source": [
    "from sklearn.metrics import precision_recall_curve\n",
    "\n",
    "precisions, recalls, thresholds = precision_recall_curve(y_train_5, y_scores)"
   ]
  },
  {
   "cell_type": "code",
   "execution_count": 64,
   "id": "9ddb1911-2387-45c0-a3de-bb547ccce6d0",
   "metadata": {},
   "outputs": [],
   "source": [
    "def plot_precision_recall_vs_threshold(precisions, recalls, threshold):\n",
    "    plt.plot(thresholds, precision[:-1], \"b--\", label=\"Precision\", linewidth=2)\n",
    "    plt.plot(thresholds, recalls[:-1], \"g-\", label = \"Recall\", linewidth=2)\n",
    "    plt.legend(loc=\"center right\", fontsize=16)\n",
    "    plt.xlabel(\"Threshold\", fontsize=16)\n",
    "    plt.grid(True)\n",
    "    plt.axis([-50000, 50000, 0, 1])"
   ]
  },
  {
   "cell_type": "code",
   "execution_count": 65,
   "id": "89cf1ab3-722f-4a7b-8029-c5f8d0867c93",
   "metadata": {},
   "outputs": [
    {
     "name": "stdout",
     "output_type": "stream",
     "text": [
      "Saving figure precision_recall_vs_threshold_plot\n"
     ]
    },
    {
     "data": {
      "image/png": "[encoded data removed]",
      "text/plain": [
       "<Figure size 800x400 with 1 Axes>"
      ]
     },
     "metadata": {},
     "output_type": "display_data"
    }
   ],
   "source": [
    "recall_90_precision = recalls[np.argmax(precisions >= 0.90)]\n",
    "threshold_90_precision = thresholds[np.argmax(precisions >= 0.90)]\n",
    "\n",
    "\n",
    "plt.figure(figsize=(8, 4))                               \n",
    "plot_precision_recall_vs_threshold(precisions, recalls, thresholds)\n",
    "plt.plot([threshold_90_precision, threshold_90_precision], [0., 0.9], \"r:\")                 \n",
    "plt.plot([-50000, threshold_90_precision], [0.9, 0.9], \"r:\")                               \n",
    "plt.plot([-50000, threshold_90_precision], [recall_90_precision, recall_90_precision], \"r:\")\n",
    "plt.plot([threshold_90_precision], [0.9], \"ro\")                                            \n",
    "plt.plot([threshold_90_precision], [recall_90_precision], \"ro\")                             \n",
    "save_fig(\"precision_recall_vs_threshold_plot\")                                             \n",
    "plt.show()"
   ]
  },
  {
   "cell_type": "code",
   "execution_count": 66,
   "id": "6210db58-fb3e-4708-831a-8fd614b21023",
   "metadata": {},
   "outputs": [
    {
     "data": {
      "text/plain": [
       "True"
      ]
     },
     "execution_count": 66,
     "metadata": {},
     "output_type": "execute_result"
    }
   ],
   "source": [
    "(y_train_pred == (y_scores > 0)).all()"
   ]
  },
  {
   "cell_type": "code",
   "execution_count": 67,
   "id": "ab316cef-7190-4786-a558-b90422c5f90e",
   "metadata": {},
   "outputs": [
    {
     "name": "stdout",
     "output_type": "stream",
     "text": [
      "Saving figure precision_vs_recall_plot\n"
     ]
    },
    {
     "data": {
      "image/png": "[encoded data removed]",
      "text/plain": [
       "<Figure size 800x600 with 1 Axes>"
      ]
     },
     "metadata": {},
     "output_type": "display_data"
    }
   ],
   "source": [
    "def plot_precision_vs_recall(precisions, recalls):\n",
    "    plt.plot(recalls, precisions, \"b-\", linewidth=2)\n",
    "    plt.xlabel(\"Recall\", fontsize=16)\n",
    "    plt.ylabel(\"Precision\", fontsize=16)\n",
    "    plt.axis([0, 1, 0, 1])\n",
    "    plt.grid(True)\n",
    "\n",
    "plt.figure(figsize=(8, 6))\n",
    "plot_precision_vs_recall(precisions, recalls)\n",
    "plt.plot([recall_90_precision, recall_90_precision], [0., 0.9], \"r:\")\n",
    "plt.plot([0.0, recall_90_precision], [0.9, 0.9], \"r:\")\n",
    "plt.plot([recall_90_precision], [0.9], \"ro\")\n",
    "save_fig(\"precision_vs_recall_plot\")\n",
    "plt.show()"
   ]
  },
  {
   "cell_type": "markdown",
   "id": "5bbc36a9-cd23-4545-864e-1e8b94dedbb4",
   "metadata": {},
   "source": [
    "another way to select a good precision/recall trade off is to plot precision directly against recall.\n",
    "\n",
    "As you can see, precision really starts to fall sharply around 80% recall. so we want t o select a precision/recall trade off just before that drop"
   ]
  },
  {
   "cell_type": "markdown",
   "id": "1a7c0c31-52df-4405-9518-081754d09944",
   "metadata": {},
   "source": [
    "How can we find the threshold that will give us 90% precision?\n",
    "\n",
    "by using np.argmax() we can get lowest threshold that gives at least 90% precision"
   ]
  },
  {
   "cell_type": "code",
   "execution_count": 68,
   "id": "e2d1421c-12d9-43f3-847d-ef33385dc078",
   "metadata": {},
   "outputs": [],
   "source": [
    "threshold_90_precision = thresholds[np.argmax(precisions >= 0.90)]"
   ]
  },
  {
   "cell_type": "code",
   "execution_count": 71,
   "id": "85044158-f774-4fcf-a0ab-0559a488ac82",
   "metadata": {},
   "outputs": [
    {
     "data": {
      "text/plain": [
       "3370.019499144183"
      ]
     },
     "execution_count": 71,
     "metadata": {},
     "output_type": "execute_result"
    }
   ],
   "source": [
    "threshold_90_precision"
   ]
  },
  {
   "cell_type": "code",
   "execution_count": 69,
   "id": "d79bbd9f-6df6-4061-adfa-ccb3bbea5188",
   "metadata": {},
   "outputs": [],
   "source": [
    "y_train_pred_90 = (y_scores >= threshold_90_precision)"
   ]
  },
  {
   "cell_type": "code",
   "execution_count": 70,
   "id": "eb30742a-382e-4765-995e-22425adc346f",
   "metadata": {},
   "outputs": [
    {
     "data": {
      "text/plain": [
       "0.9000345901072293"
      ]
     },
     "execution_count": 70,
     "metadata": {},
     "output_type": "execute_result"
    }
   ],
   "source": [
    "precision_score(y_train_5, y_train_pred_90)"
   ]
  },
  {
   "cell_type": "code",
   "execution_count": 72,
   "id": "01eda40c-a904-49f8-b885-75cb61705b5c",
   "metadata": {},
   "outputs": [
    {
     "data": {
      "text/plain": [
       "0.4799852425751706"
      ]
     },
     "execution_count": 72,
     "metadata": {},
     "output_type": "execute_result"
    }
   ],
   "source": [
    "recall_score(y_train_5, y_train_pred_90)"
   ]
  },
  {
   "cell_type": "markdown",
   "id": "9617cd6c-fdb1-4ca4-b81f-2a03ccfd17f4",
   "metadata": {},
   "source": [
    "high precision at 90% but recall is below 50% which isnt too good..."
   ]
  },
  {
   "cell_type": "markdown",
   "id": "a4d0ab60-101a-4a60-80f9-22b1212d26ae",
   "metadata": {},
   "source": [
    "## ROC Curve\n",
    "\n",
    "*Receiver Operating Characteristic (ROC) curve is another common tool used with binary classifiers.\n",
    "\n",
    "Very similar to precision vs recall but ROC curve plots the *true positive rate (recall)* against *false positive rate* (FPR)\n",
    "\n",
    "FPR - ratio of negative instances that are incorrectly classified as positive. \n",
    "\n",
    "FPR = 1 - TNR (*True negative Rate* ratio of negative instances that are correctly classified as negative.\n",
    "\n",
    "TNR is also known as *specificity* thus ROC curve plots *sensitivity*(recall) vs 1-*specificity*\n",
    "\n",
    "TPR VS FPR"
   ]
  },
  {
   "cell_type": "code",
   "execution_count": 73,
   "id": "8ca7a0ed-cab9-4b75-8df4-1e381df8724c",
   "metadata": {},
   "outputs": [],
   "source": [
    "from sklearn.metrics import roc_curve\n",
    "\n",
    "fpr, tpr, thresholds = roc_curve(y_train_5, y_scores)"
   ]
  },
  {
   "cell_type": "code",
   "execution_count": 76,
   "id": "500febf7-66e8-4fd2-a6d4-d61477299a83",
   "metadata": {},
   "outputs": [
    {
     "name": "stdout",
     "output_type": "stream",
     "text": [
      "Saving figure roc_curve_plot\n"
     ]
    },
    {
     "data": {
      "image/png": "[encoded data removed]",
      "text/plain": [
       "<Figure size 800x600 with 1 Axes>"
      ]
     },
     "metadata": {},
     "output_type": "display_data"
    }
   ],
   "source": [
    "def plot_roc_curve(fpr, tpr, label=None):\n",
    "    plt.plot(fpr, tpr, linewidth=2, label=label)\n",
    "    plt.plot([0, 1], [0, 1], 'k--') # dashed diagonal\n",
    "    plt.axis([0, 1, 0, 1])                                    # Not shown in the book\n",
    "    plt.xlabel('False Positive Rate (Fall-Out)', fontsize=16) # Not shown\n",
    "    plt.ylabel('True Positive Rate (Recall)', fontsize=16)    # Not shown\n",
    "    plt.grid(True)                                            # Not shown\n",
    "\n",
    "plt.figure(figsize=(8, 6))                                    # Not shown\n",
    "plot_roc_curve(fpr, tpr)\n",
    "fpr_90 = fpr[np.argmax(tpr >= recall_90_precision)]           # Not shown\n",
    "plt.plot([fpr_90, fpr_90], [0., recall_90_precision], \"r:\")   # Not shown\n",
    "plt.plot([0.0, fpr_90], [recall_90_precision, recall_90_precision], \"r:\")  # Not shown\n",
    "plt.plot([fpr_90], [recall_90_precision], \"ro\")               # Not shown\n",
    "save_fig(\"roc_curve_plot\")                                    # Not shown\n",
    "plt.show()"
   ]
  },
  {
   "cell_type": "markdown",
   "id": "c98a3ff9-d8f0-4c87-9bbe-5af8ec4606e6",
   "metadata": {},
   "source": [
    "The higher the Recall (TPR), the more false positives (FPR)\n",
    "\n",
    "The dotted line represents the ROC curve of a purely random classifier; a good classifier stays as far away from that line as possible (toward the top left corner)"
   ]
  },
  {
   "cell_type": "markdown",
   "id": "005968ee-6afb-4e79-9b92-d864a14f369e",
   "metadata": {},
   "source": [
    "One way to compare classifiers is to measure the AUC (Area under the curve). A perfect classifier will have ROC AUC equal to 1. whereas purely random classifier will have a ROC AUC equal to 0.5"
   ]
  },
  {
   "cell_type": "code",
   "execution_count": 77,
   "id": "e398c4f8-4c60-4d6e-a8a6-a4987954ccc2",
   "metadata": {},
   "outputs": [
    {
     "data": {
      "text/plain": [
       "0.9604938554008616"
      ]
     },
     "execution_count": 77,
     "metadata": {},
     "output_type": "execute_result"
    }
   ],
   "source": [
    "from sklearn.metrics import roc_auc_score\n",
    "roc_auc_score(y_train_5, y_scores)"
   ]
  },
  {
   "cell_type": "markdown",
   "id": "795e00e1-bc95-47d8-a137-b81e29474abe",
   "metadata": {},
   "source": [
    "### When should i use ROC over PR (precision recall) curve?\n",
    "\n",
    "Use PR curve whenever positive class is rare (or when you care more about the false positives than false negatives)\n",
    "\n",
    "Otherwise, use ROC curve\n",
    "\n",
    "\n",
    "Now lets train a `RandomForestClassifier` and compare its ROC curve and ROC AUC to that of `SGDClassifier`\n",
    "\n",
    "However, randomforestClassifier doesmn't have `decision_function()`. instead, it has `predict_proba()` method which returns an arry containing a row per instance and a column per class, each containing the probability that the given instance belongs to the given class"
   ]
  },
  {
   "cell_type": "code",
   "execution_count": 79,
   "id": "9f26fca5-caf5-4856-a4e1-295bd4cf3750",
   "metadata": {},
   "outputs": [],
   "source": [
    "from sklearn.ensemble import RandomForestClassifier\n",
    "forest_clf = RandomForestClassifier(n_estimators=100, random_state=42)\n",
    "y_probas_forest = cross_val_predict(forest_clf, X_train, y_train_5, cv=3,\n",
    "                                    method=\"predict_proba\")"
   ]
  },
  {
   "cell_type": "code",
   "execution_count": 82,
   "id": "24ecf639-8054-4627-91f4-dbeb72dd416c",
   "metadata": {},
   "outputs": [
    {
     "data": {
      "text/plain": [
       "array([[0.11, 0.89],\n",
       "       [0.98, 0.02],\n",
       "       [0.96, 0.04],\n",
       "       ...,\n",
       "       [0.02, 0.98],\n",
       "       [0.92, 0.08],\n",
       "       [0.93, 0.07]])"
      ]
     },
     "execution_count": 82,
     "metadata": {},
     "output_type": "execute_result"
    }
   ],
   "source": [
    "y_probas_forest"
   ]
  },
  {
   "cell_type": "code",
   "execution_count": 84,
   "id": "6969ff7b-a37d-4637-888d-0067001851e3",
   "metadata": {},
   "outputs": [
    {
     "data": {
      "text/plain": [
       "array([0.89, 0.02, 0.04, ..., 0.98, 0.08, 0.07])"
      ]
     },
     "execution_count": 84,
     "metadata": {},
     "output_type": "execute_result"
    }
   ],
   "source": [
    "y_scores_forest = y_probas_forest[:,1] # score = probability of positive class\n",
    "y_scores_forest"
   ]
  },
  {
   "cell_type": "markdown",
   "id": "a3dea805-3da2-473a-80ad-55bfe120b32c",
   "metadata": {},
   "source": [
    "ROC curve expects labels and scores but instead of scores, we can give it class probabilities"
   ]
  },
  {
   "cell_type": "code",
   "execution_count": 85,
   "id": "a337b43a-8f65-49d8-9bce-20139798d542",
   "metadata": {},
   "outputs": [
    {
     "data": {
      "text/plain": [
       "array([ True, False, False, ...,  True, False, False])"
      ]
     },
     "execution_count": 85,
     "metadata": {},
     "output_type": "execute_result"
    }
   ],
   "source": []
  },
  {
   "cell_type": "code",
   "execution_count": 86,
   "id": "601a3501-587f-4cff-8c28-1f572c079bdb",
   "metadata": {},
   "outputs": [],
   "source": [
    "fpr_forest, tpr_forest, thresholds_fores = roc_curve(y_train_5, y_scores_forest)"
   ]
  },
  {
   "cell_type": "code",
   "execution_count": 87,
   "id": "2b9fad92-7165-4014-bb12-eee0ff7d5e56",
   "metadata": {},
   "outputs": [
    {
     "name": "stdout",
     "output_type": "stream",
     "text": [
      "Saving figure roc_curve_comparison_plot\n"
     ]
    },
    {
     "data": {
      "image/png": "[encoded data removed]",
      "text/plain": [
       "<Figure size 800x600 with 1 Axes>"
      ]
     },
     "metadata": {},
     "output_type": "display_data"
    }
   ],
   "source": [
    "recall_for_forest = tpr_forest[np.argmax(fpr_forest >= fpr_90)]\n",
    "\n",
    "plt.figure(figsize=(8, 6))\n",
    "plt.plot(fpr, tpr, \"b:\", linewidth=2, label=\"SGD\")\n",
    "plot_roc_curve(fpr_forest, tpr_forest, \"Random Forest\")\n",
    "plt.plot([fpr_90, fpr_90], [0., recall_90_precision], \"r:\")\n",
    "plt.plot([0.0, fpr_90], [recall_90_precision, recall_90_precision], \"r:\")\n",
    "plt.plot([fpr_90], [recall_90_precision], \"ro\")\n",
    "plt.plot([fpr_90, fpr_90], [0., recall_for_forest], \"r:\")\n",
    "plt.plot([fpr_90], [recall_for_forest], \"ro\")\n",
    "plt.grid(True)\n",
    "plt.legend(loc=\"lower right\", fontsize=16)\n",
    "save_fig(\"roc_curve_comparison_plot\")\n",
    "plt.show()"
   ]
  },
  {
   "cell_type": "markdown",
   "id": "a6e58bfe-fd11-46ee-9c41-432a8e35be6e",
   "metadata": {},
   "source": [
    "We can see that random forest does much better than SGD"
   ]
  },
  {
   "cell_type": "code",
   "execution_count": 88,
   "id": "107c0805-c602-40c9-8ab9-64a22f2a0e1e",
   "metadata": {},
   "outputs": [
    {
     "data": {
      "text/plain": [
       "0.9983296721818179"
      ]
     },
     "execution_count": 88,
     "metadata": {},
     "output_type": "execute_result"
    }
   ],
   "source": [
    "roc_auc_score(y_train_5, y_scores_forest)"
   ]
  },
  {
   "cell_type": "markdown",
   "id": "28577173-cc3e-42cf-91f1-f30189648bb9",
   "metadata": {},
   "source": [
    "ROC AUC score is much higher than SGDclassifier"
   ]
  },
  {
   "cell_type": "code",
   "execution_count": 89,
   "id": "879b0420-1eef-41e7-beb9-aea88da8f07e",
   "metadata": {},
   "outputs": [
    {
     "data": {
      "text/plain": [
       "0.9898819561551433"
      ]
     },
     "execution_count": 89,
     "metadata": {},
     "output_type": "execute_result"
    }
   ],
   "source": [
    "y_train_pred_forest = cross_val_predict(forest_clf, X_train, y_train_5, cv=3)\n",
    "precision_score(y_train_5, y_train_pred_forest)"
   ]
  },
  {
   "cell_type": "code",
   "execution_count": 90,
   "id": "e14bd5b1-e037-40ca-a192-efd52ac16f4f",
   "metadata": {},
   "outputs": [
    {
     "data": {
      "text/plain": [
       "0.8662608374838591"
      ]
     },
     "execution_count": 90,
     "metadata": {},
     "output_type": "execute_result"
    }
   ],
   "source": [
    "recall_score(y_train_5, y_train_pred_forest)"
   ]
  },
  {
   "cell_type": "markdown",
   "id": "916f404a-8be8-4ba7-959d-2ec13dd4bc70",
   "metadata": {},
   "source": [
    "## Multiclass Classification\n",
    "\n",
    "SGD classifier, Random Forest Classifiers, and naive Bayes Classifiers are capable of handling multiple classes natively.\n",
    "\n",
    "Others like Logistic Regression or SVM classifiers are strictly binary classifiers. Although, there are ways to perform multiclass classification using multiple binary classifiers\n",
    "\n",
    "*One vs all* (or One vs the rest (OVR)) is a system that classify the digit images into 10 classes (0 to 9) and train 10 binary classifiers, one for each digit. Then, when we want to classify an image, we get decision score from each classifier for that image and seelect the class whose classifier outputs the highest score\n",
    "\n",
    "*one vs one* (OvO) is to train binary classifier for every pair of digits (one to distinguish 0s and 1s, another to distinguish 0s and 2s, another for 1s and 2s ,etc.) Thus, if there are *N* classes, we need to train *N x (N-1)/2* classifiers. For MNIST problem, thats training 45 binary classifiers.\n",
    "\n",
    "Scikit-learn automatically detects when you try to run binary classification algorithms for a multiclass classification task, and it automatically runs OvR or OvO"
   ]
  },
  {
   "cell_type": "code",
   "execution_count": 93,
   "id": "12b23d47-83c3-40a4-981d-fc117cab8ab4",
   "metadata": {},
   "outputs": [
    {
     "data": {
      "text/plain": [
       "array([5], dtype=uint8)"
      ]
     },
     "execution_count": 93,
     "metadata": {},
     "output_type": "execute_result"
    }
   ],
   "source": [
    "# using Support Vector Machine Classifier\n",
    "from sklearn.svm import SVC\n",
    "\n",
    "svm_clf = SVC(gamma=\"auto\", random_state=42)\n",
    "svm_clf.fit(X_train[:1000], y_train[:1000])\n",
    "svm_clf.predict([some_digit])\n",
    "\n",
    "# here SVC used OvO as it trained 45 binary classifiers and got their decision scores for each image"
   ]
  },
  {
   "cell_type": "code",
   "execution_count": 94,
   "id": "7dc74d9d-13b6-434e-b2c7-c6f28fe8321a",
   "metadata": {},
   "outputs": [
    {
     "data": {
      "text/plain": [
       "array([[ 2.81585438,  7.09167958,  3.82972099,  0.79365551,  5.8885703 ,\n",
       "         9.29718395,  1.79862509,  8.10392157, -0.228207  ,  4.83753243]])"
      ]
     },
     "execution_count": 94,
     "metadata": {},
     "output_type": "execute_result"
    }
   ],
   "source": [
    "some_digit_scores = svm_clf.decision_function([some_digit])\n",
    "some_digit_scores"
   ]
  },
  {
   "cell_type": "code",
   "execution_count": 95,
   "id": "07cf638a-dd35-4dab-869a-a1b4dcbb7acf",
   "metadata": {},
   "outputs": [
    {
     "data": {
      "text/plain": [
       "5"
      ]
     },
     "execution_count": 95,
     "metadata": {},
     "output_type": "execute_result"
    }
   ],
   "source": [
    "np.argmax(some_digit_scores)"
   ]
  },
  {
   "cell_type": "code",
   "execution_count": 96,
   "id": "d9feabc3-f09b-4dae-ad31-02fc69369f24",
   "metadata": {},
   "outputs": [
    {
     "data": {
      "text/plain": [
       "array([0, 1, 2, 3, 4, 5, 6, 7, 8, 9], dtype=uint8)"
      ]
     },
     "execution_count": 96,
     "metadata": {},
     "output_type": "execute_result"
    }
   ],
   "source": [
    "svm_clf.classes_"
   ]
  },
  {
   "cell_type": "code",
   "execution_count": 97,
   "id": "14a2a036-5c1d-4a61-9c51-7f52ee6e565b",
   "metadata": {},
   "outputs": [
    {
     "data": {
      "text/plain": [
       "5"
      ]
     },
     "execution_count": 97,
     "metadata": {},
     "output_type": "execute_result"
    }
   ],
   "source": [
    "svm_clf.classes_[5]"
   ]
  },
  {
   "cell_type": "code",
   "execution_count": 98,
   "id": "9ec66f6b-4572-4f3f-93a4-e073b2331fd4",
   "metadata": {},
   "outputs": [
    {
     "data": {
      "text/plain": [
       "array([5], dtype=uint8)"
      ]
     },
     "execution_count": 98,
     "metadata": {},
     "output_type": "execute_result"
    }
   ],
   "source": [
    "from sklearn.multiclass import OneVsRestClassifier\n",
    "ovr_clf = OneVsRestClassifier(SVC(gamma=\"auto\", random_state=42))\n",
    "ovr_clf.fit(X_train[:1000], y_train[:1000])\n",
    "ovr_clf.predict([some_digit])"
   ]
  },
  {
   "cell_type": "code",
   "execution_count": 99,
   "id": "cf9a9c82-b5e2-4865-9b59-f4326954d4fb",
   "metadata": {},
   "outputs": [
    {
     "data": {
      "text/plain": [
       "10"
      ]
     },
     "execution_count": 99,
     "metadata": {},
     "output_type": "execute_result"
    }
   ],
   "source": [
    "len(ovr_clf.estimators_) # to check how many estimators (classifiers) were created"
   ]
  },
  {
   "cell_type": "code",
   "execution_count": 100,
   "id": "3702c0cf-bd63-4543-a7af-4988c6712685",
   "metadata": {},
   "outputs": [
    {
     "data": {
      "text/plain": [
       "array([3], dtype=uint8)"
      ]
     },
     "execution_count": 100,
     "metadata": {},
     "output_type": "execute_result"
    }
   ],
   "source": [
    "sgd_clf.fit(X_train, y_train)\n",
    "sgd_clf.predict([some_digit])"
   ]
  },
  {
   "cell_type": "code",
   "execution_count": 101,
   "id": "bdd71077-562a-454d-a2e9-d1ea9720c3ee",
   "metadata": {},
   "outputs": [
    {
     "data": {
      "text/plain": [
       "array([[-31893.03095419, -34419.69069632,  -9530.63950739,\n",
       "          1823.73154031, -22320.14822878,  -1385.80478895,\n",
       "        -26188.91070951, -16147.51323997,  -4604.35491274,\n",
       "        -12050.767298  ]])"
      ]
     },
     "execution_count": 101,
     "metadata": {},
     "output_type": "execute_result"
    }
   ],
   "source": [
    "sgd_clf.decision_function([some_digit])"
   ]
  },
  {
   "cell_type": "markdown",
   "id": "6cd41093-da80-4b11-833c-9b44ee286067",
   "metadata": {},
   "source": [
    "model predicts that the digit is 3 when it is 5. 5 has the negative number but a -1385 while 3 is 1823.\n",
    "\n",
    "lets see the Cross validation score to evaluate its accuracy"
   ]
  },
  {
   "cell_type": "code",
   "execution_count": 102,
   "id": "cc74518b-70d5-493e-91e9-f48a9db3808d",
   "metadata": {},
   "outputs": [
    {
     "data": {
      "text/plain": [
       "array([0.87365, 0.85835, 0.8689 ])"
      ]
     },
     "execution_count": 102,
     "metadata": {},
     "output_type": "execute_result"
    }
   ],
   "source": [
    "cross_val_score(sgd_clf, X_train, y_train, cv=3, scoring=\"accuracy\")"
   ]
  },
  {
   "cell_type": "code",
   "execution_count": 103,
   "id": "9fb089d7-f98a-47bd-ac42-fafa3cfae11d",
   "metadata": {},
   "outputs": [
    {
     "data": {
      "text/plain": [
       "array([0.8983, 0.891 , 0.9018])"
      ]
     },
     "execution_count": 103,
     "metadata": {},
     "output_type": "execute_result"
    }
   ],
   "source": [
    "from sklearn.preprocessing import StandardScaler\n",
    "scaler = StandardScaler()\n",
    "X_train_scaled = scaler.fit_transform(X_train.astype(np.float64))\n",
    "cross_val_score(sgd_clf, X_train_scaled, y_train, cv=3, scoring=\"accuracy\")"
   ]
  },
  {
   "cell_type": "markdown",
   "id": "568c2b9a-1526-4eea-9e67-d5f8f2877e52",
   "metadata": {},
   "source": [
    "Scaling the inputs allowed it to perform better"
   ]
  },
  {
   "cell_type": "markdown",
   "id": "4093f880-5f7d-4edf-bf10-0adacebedadf",
   "metadata": {},
   "source": [
    "## Error Analysis\n",
    "\n",
    "Let's assume that we've tried with multiple models (shortlisting the best ones and fine-tuning their hyperparameters using GridSearchCV), and automate as much as possible. Here, we will assume that you have found the promising model and we want to find ways to improve it.\n",
    "\n",
    "We do so by analyzing the types of errors it make\n",
    "\n",
    "First, lets look at the Confusion Matrix. (first call the `cross_val_predict()` then call `confusion_matrix()`"
   ]
  },
  {
   "cell_type": "code",
   "execution_count": 104,
   "id": "c06ef502-5314-44b8-8ec0-111c1746f6d3",
   "metadata": {},
   "outputs": [],
   "source": [
    "y_trained_pred = cross_val_predict(sgd_clf, X_train_scaled, y_train, cv=3)"
   ]
  },
  {
   "cell_type": "code",
   "execution_count": 109,
   "id": "48a43196-fd29-4799-abef-1f8deca3bb71",
   "metadata": {},
   "outputs": [],
   "source": [
    "conf_mx = confusion_matrix(y_train, y_trained_pred)"
   ]
  },
  {
   "cell_type": "code",
   "execution_count": 110,
   "id": "6cb74403-9bd2-46e5-80d3-c928a6fd83e6",
   "metadata": {},
   "outputs": [
    {
     "data": {
      "text/plain": [
       "array([[5577,    0,   22,    5,    8,   43,   36,    6,  225,    1],\n",
       "       [   0, 6400,   37,   24,    4,   44,    4,    7,  212,   10],\n",
       "       [  27,   27, 5220,   92,   73,   27,   67,   36,  378,   11],\n",
       "       [  22,   17,  117, 5227,    2,  203,   27,   40,  403,   73],\n",
       "       [  12,   14,   41,    9, 5182,   12,   34,   27,  347,  164],\n",
       "       [  27,   15,   30,  168,   53, 4444,   75,   14,  535,   60],\n",
       "       [  30,   15,   42,    3,   44,   97, 5552,    3,  131,    1],\n",
       "       [  21,   10,   51,   30,   49,   12,    3, 5684,  195,  210],\n",
       "       [  17,   63,   48,   86,    3,  126,   25,   10, 5429,   44],\n",
       "       [  25,   18,   30,   64,  118,   36,    1,  179,  371, 5107]])"
      ]
     },
     "execution_count": 110,
     "metadata": {},
     "output_type": "execute_result"
    }
   ],
   "source": [
    "conf_mx"
   ]
  },
  {
   "cell_type": "code",
   "execution_count": 111,
   "id": "309f4f0e-a10e-45f9-a264-b979d4a4f748",
   "metadata": {},
   "outputs": [],
   "source": [
    "def plot_confusion_matrix(matrix):\n",
    "    fig = plt.figure(figsize=(8,8))\n",
    "    ax = fig.add_subplot(111)\n",
    "    cax = ax.matshow(matrix)\n",
    "    fig.colorbar(cax)"
   ]
  },
  {
   "cell_type": "code",
   "execution_count": 112,
   "id": "4a55107d-3b32-4268-b4f2-050842e8f410",
   "metadata": {},
   "outputs": [
    {
     "data": {
      "image/png": "[encoded data removed]",
      "text/plain": [
       "<Figure size 480x480 with 1 Axes>"
      ]
     },
     "metadata": {},
     "output_type": "display_data"
    }
   ],
   "source": [
    "plt.matshow(conf_mx, cmap=plt.cm.gray)\n",
    "plt.show()"
   ]
  },
  {
   "cell_type": "markdown",
   "id": "88e660a1-59aa-4982-8999-271b93ef0260",
   "metadata": {},
   "source": [
    "To plot the errors, we need to divide each value in the confusion matrix by the number of images in the corresponding class to compare the error rates instead of absolute numbers of errors"
   ]
  },
  {
   "cell_type": "code",
   "execution_count": 114,
   "id": "ebc34302-2066-4f65-9cba-0f222500b7bd",
   "metadata": {},
   "outputs": [],
   "source": [
    "row_sums = conf_mx.sum(axis=1, keepdims=True)\n",
    "norm_conf_mx = conf_mx / row_sums"
   ]
  },
  {
   "cell_type": "code",
   "execution_count": 115,
   "id": "6223a036-d87a-4266-89ce-47aec255f068",
   "metadata": {},
   "outputs": [
    {
     "name": "stdout",
     "output_type": "stream",
     "text": [
      "Saving figure confusion_matrix_errors_plot\n"
     ]
    },
    {
     "data": {
      "image/png": "[encoded data removed]",
      "text/plain": [
       "<Figure size 480x480 with 1 Axes>"
      ]
     },
     "metadata": {},
     "output_type": "display_data"
    }
   ],
   "source": [
    "np.fill_diagonal(norm_conf_mx, 0)\n",
    "plt.matshow(norm_conf_mx, cmap=plt.cm.gray)\n",
    "save_fig(\"confusion_matrix_errors_plot\", tight_layout=False)\n",
    "plt.show()"
   ]
  },
  {
   "cell_type": "markdown",
   "id": "599537a5-3081-41f3-a47b-bdd611773f68",
   "metadata": {},
   "source": [
    "We can see the kinds of errors the classifier makes. \n",
    "\n",
    "Row represents actual classes while columns represent predicted classes\n",
    "\n",
    "column 8 shows bright images showing many images get misclassified as 8s. However, row for 8s is not bad, this shows that actual 8s in general get classified properly.\n",
    "\n",
    "We can also see that 3 and 5 gets classified wrongly\n",
    "\n",
    "### insights from confusion matrix\n",
    "\n",
    "- reduce false 8s\n",
    "    - gather more data for digits that look like 8s (but are not) so that the classifier can learn to distinguis hthem from real 8s.\n",
    "-  or engineer new features that would help the classifier (writing algo to count the number of closed loops. 8 has 2, 6 has one, 5 has none)\n",
    "- preprocess the images (using scikit-image, pillow, or open CV) to make some patterns such as closed loops, stand out more"
   ]
  },
  {
   "cell_type": "markdown",
   "id": "4d6c521b-49e4-43d2-bfad-a97eb1306fd1",
   "metadata": {},
   "source": [
    "Analyzing individuals errors can also be a good way to gain insights on what your classifier is doing and why it is failing\n",
    "\n",
    "i.e. lets plot exanmples of 3s and 5s"
   ]
  },
  {
   "cell_type": "code",
   "execution_count": 125,
   "id": "8a526a7a-7505-42d3-a98e-6c39af397e86",
   "metadata": {},
   "outputs": [
    {
     "ename": "ZeroDivisionError",
     "evalue": "division by zero",
     "output_type": "error",
     "traceback": [
      "\u001b[0;31m---------------------------------------------------------------------------\u001b[0m",
      "\u001b[0;31mZeroDivisionError\u001b[0m                         Traceback (most recent call last)",
      "Cell \u001b[0;32mIn[125], line 8\u001b[0m\n\u001b[1;32m      5\u001b[0m X_bb \u001b[38;5;241m=\u001b[39m X_train[(y_train \u001b[38;5;241m==\u001b[39m cl_b) \u001b[38;5;241m&\u001b[39m (y_train_pred \u001b[38;5;241m==\u001b[39m cl_b)]\n\u001b[1;32m      7\u001b[0m plt\u001b[38;5;241m.\u001b[39mfigure(figsize\u001b[38;5;241m=\u001b[39m(\u001b[38;5;241m8\u001b[39m,\u001b[38;5;241m8\u001b[39m))\n\u001b[0;32m----> 8\u001b[0m plt\u001b[38;5;241m.\u001b[39msubplot(\u001b[38;5;241m221\u001b[39m); plot_digits(X_aa[:\u001b[38;5;241m25\u001b[39m], images_per_row\u001b[38;5;241m=\u001b[39m\u001b[38;5;241m5\u001b[39m)\n\u001b[1;32m      9\u001b[0m plt\u001b[38;5;241m.\u001b[39msubplot(\u001b[38;5;241m222\u001b[39m); plot_digits(X_ab[:\u001b[38;5;241m25\u001b[39m], images_per_row\u001b[38;5;241m=\u001b[39m\u001b[38;5;241m5\u001b[39m)\n\u001b[1;32m     10\u001b[0m plt\u001b[38;5;241m.\u001b[39msubplot(\u001b[38;5;241m223\u001b[39m); plot_digits(X_ba[:\u001b[38;5;241m25\u001b[39m], images_per_row\u001b[38;5;241m=\u001b[39m\u001b[38;5;241m5\u001b[39m)\n",
      "Cell \u001b[0;32mIn[124], line 6\u001b[0m, in \u001b[0;36mplot_digits\u001b[0;34m(instances, images_per_row, **options)\u001b[0m\n\u001b[1;32m      4\u001b[0m size \u001b[38;5;241m=\u001b[39m \u001b[38;5;241m28\u001b[39m\n\u001b[1;32m      5\u001b[0m images_per_row \u001b[38;5;241m=\u001b[39m \u001b[38;5;28mmin\u001b[39m(\u001b[38;5;28mlen\u001b[39m(instances), images_per_row)\n\u001b[0;32m----> 6\u001b[0m n_rows \u001b[38;5;241m=\u001b[39m math\u001b[38;5;241m.\u001b[39mceil(\u001b[38;5;28;43mlen\u001b[39;49m\u001b[43m(\u001b[49m\u001b[43minstances\u001b[49m\u001b[43m)\u001b[49m\u001b[43m \u001b[49m\u001b[38;5;241;43m/\u001b[39;49m\u001b[43m \u001b[49m\u001b[43mimages_per_row\u001b[49m)\n\u001b[1;32m      7\u001b[0m \u001b[38;5;66;03m# n_rows = (len(instances) - 1) // images_per_row + 1\u001b[39;00m\n\u001b[1;32m      8\u001b[0m \n\u001b[1;32m      9\u001b[0m \u001b[38;5;66;03m# Append empty images to fill the end of the grid, if needed:\u001b[39;00m\n\u001b[1;32m     10\u001b[0m n_empty \u001b[38;5;241m=\u001b[39m n_rows \u001b[38;5;241m*\u001b[39m images_per_row \u001b[38;5;241m-\u001b[39m \u001b[38;5;28mlen\u001b[39m(instances)\n",
      "\u001b[0;31mZeroDivisionError\u001b[0m: division by zero"
     ]
    },
    {
     "data": {
      "image/png": "[encoded data removed]",
      "text/plain": [
       "<Figure size 800x800 with 1 Axes>"
      ]
     },
     "metadata": {},
     "output_type": "display_data"
    }
   ],
   "source": [
    "cl_a, cl_b = 3, 5\n",
    "X_aa = X_train[(y_train == cl_a) & (y_train_pred == cl_a)]\n",
    "X_ab = X_train[(y_train == cl_a) & (y_train_pred == cl_b)]\n",
    "X_ba = X_train[(y_train == cl_b) & (y_train_pred == cl_a)]\n",
    "X_bb = X_train[(y_train == cl_b) & (y_train_pred == cl_b)]\n",
    "\n",
    "plt.figure(figsize=(8,8))\n",
    "plt.subplot(221); plot_digits(X_aa[:25], images_per_row=5)\n",
    "plt.subplot(222); plot_digits(X_ab[:25], images_per_row=5)\n",
    "plt.subplot(223); plot_digits(X_ba[:25], images_per_row=5)\n",
    "plt.subplot(224); plot_digits(X_bb[:25], images_per_row=5)\n",
    "save_fig(\"error_analysis_digits_plot\")\n",
    "plt.show()"
   ]
  },
  {
   "cell_type": "markdown",
   "id": "18da57d6-51f5-4de7-a207-90b1a35bfbfc",
   "metadata": {},
   "source": [
    "# Multilaberl Classification\n"
   ]
  },
  {
   "cell_type": "code",
   "execution_count": null,
   "id": "3a167245-020c-4df4-9454-3658d96efa71",
   "metadata": {},
   "outputs": [],
   "source": []
  }
 ],
 "metadata": {
  "kernelspec": {
   "display_name": "MLProjectpython3",
   "language": "python",
   "name": "mlprojectpython3"
  },
  "language_info": {
   "codemirror_mode": {
    "name": "ipython",
    "version": 3
   },
   "file_extension": ".py",
   "mimetype": "text/x-python",
   "name": "python",
   "nbconvert_exporter": "python",
   "pygments_lexer": "ipython3",
   "version": "3.11.5"
  }
 },
 "nbformat": 4,
 "nbformat_minor": 5
}
